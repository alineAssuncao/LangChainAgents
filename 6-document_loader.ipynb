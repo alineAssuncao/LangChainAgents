{
 "cells": [
  {
   "cell_type": "markdown",
   "id": "a07ca8e2",
   "metadata": {},
   "source": [
    "## Carregamento arquivo PDF"
   ]
  },
  {
   "cell_type": "code",
   "execution_count": null,
   "id": "01040c5f",
   "metadata": {},
   "outputs": [],
   "source": [
    "from langchain_community.document_loaders.pdf import PyPDFLoader\n",
    "\n",
    "arquivo = \"files/apostila.pdf\"\n",
    "loader = PyPDFLoader(arquivo)\n",
    "documentos = loader.load()"
   ]
  },
  {
   "cell_type": "code",
   "execution_count": null,
   "id": "de6b091c",
   "metadata": {},
   "outputs": [],
   "source": [
    "len(documentos)"
   ]
  },
  {
   "cell_type": "code",
   "execution_count": null,
   "id": "395a60ca",
   "metadata": {},
   "outputs": [],
   "source": [
    "documentos[0]"
   ]
  },
  {
   "cell_type": "code",
   "execution_count": null,
   "id": "aade5c38",
   "metadata": {},
   "outputs": [],
   "source": [
    "documentos[5].page_content"
   ]
  },
  {
   "cell_type": "code",
   "execution_count": null,
   "id": "14b20382",
   "metadata": {},
   "outputs": [],
   "source": [
    "from langchain.chains.question_answering import load_qa_chain\n",
    "from langchain_openai.chat_models import ChatOpenAI\n",
    "\n",
    "chat = ChatOpenAI(model=\"gpt-3.5-turbo-0125\")\n",
    "\n",
    "chain = load_qa_chain(llm=chat,chain_type=\"stuff\", verbose=True)"
   ]
  },
  {
   "cell_type": "code",
   "execution_count": null,
   "id": "f6e9864f",
   "metadata": {},
   "outputs": [],
   "source": [
    "pergunta = \"Do que se trata este documento?\"\n",
    "chain.run(input_documents=documentos[:8], question=pergunta)"
   ]
  },
  {
   "cell_type": "markdown",
   "id": "6e549732",
   "metadata": {},
   "source": [
    "## Carregamento arquivo csv"
   ]
  },
  {
   "cell_type": "code",
   "execution_count": null,
   "id": "34480f2a",
   "metadata": {},
   "outputs": [],
   "source": [
    "from langchain_community.document_loaders.csv_loader import CSVLoader\n",
    "\n",
    "arquivo = \"files/imdb_movies.csv\"\n",
    "loader = CSVLoader(arquivo)\n",
    "documentos = loader.load()"
   ]
  },
  {
   "cell_type": "code",
   "execution_count": null,
   "id": "9fc8dcd1",
   "metadata": {},
   "outputs": [],
   "source": [
    "documentos[5]"
   ]
  },
  {
   "cell_type": "code",
   "execution_count": null,
   "id": "4ed6ff10",
   "metadata": {},
   "outputs": [],
   "source": [
    "len(documentos)"
   ]
  },
  {
   "cell_type": "code",
   "execution_count": null,
   "id": "3cedcbea",
   "metadata": {},
   "outputs": [],
   "source": [
    "documentos[80].metadata"
   ]
  },
  {
   "cell_type": "code",
   "execution_count": null,
   "id": "833f3aea",
   "metadata": {},
   "outputs": [],
   "source": [
    "pergunta = \"Qual filme com menor e maior metascore?\"\n",
    "\n",
    "chain.run(input_documents=documentos[:10], question=pergunta)"
   ]
  },
  {
   "cell_type": "markdown",
   "id": "373caf24",
   "metadata": {},
   "source": [
    "## Carregando vídeos do Youtube"
   ]
  },
  {
   "cell_type": "code",
   "execution_count": null,
   "id": "28a0d34b",
   "metadata": {},
   "outputs": [],
   "source": [
    "from langchain_community.document_loaders.generic import GenericLoader\n",
    "from langchain_community.document_loaders.blob_loaders.youtube_audio import YoutubeAudioLoader\n",
    "from langchain.document_loaders.parsers import OpenAIWhisperParser"
   ]
  },
  {
   "cell_type": "code",
   "execution_count": null,
   "id": "60601432",
   "metadata": {},
   "outputs": [],
   "source": [
    "url = \"https://www.youtube.com/watch?v=deprLB_y6Ho\"\n",
    "save_dir = \"files/youtube\"\n",
    "loader = GenericLoader(\n",
    "    YoutubeAudioLoader([url], save_dir),\n",
    "    OpenAIWhisperParser()\n",
    ")\n",
    "docs = loader.load()"
   ]
  },
  {
   "cell_type": "code",
   "execution_count": null,
   "id": "94fb54cb",
   "metadata": {},
   "outputs": [],
   "source": [
    "len(documentos)"
   ]
  },
  {
   "cell_type": "code",
   "execution_count": null,
   "id": "7d2e4069",
   "metadata": {},
   "outputs": [],
   "source": [
    "docs[0].page_content[:200]"
   ]
  },
  {
   "cell_type": "code",
   "execution_count": null,
   "id": "db65f76a",
   "metadata": {},
   "outputs": [],
   "source": [
    "pergunta = \"Faça um resumo breve do conteúdo do vídeo.\"\n",
    "chain.run(input_documents=docs, question=pergunta)"
   ]
  },
  {
   "cell_type": "markdown",
   "id": "a4aae8f9",
   "metadata": {},
   "source": [
    "## Web via URL"
   ]
  },
  {
   "cell_type": "code",
   "execution_count": null,
   "id": "21939070",
   "metadata": {},
   "outputs": [],
   "source": [
    "from langchain_community.document_loaders.web_base import WebBaseLoader\n",
    "url = \"https://google.github.io/adk-docs/runtime/#runners-role-orchestrator\"\n",
    "loader = WebBaseLoader(url)\n",
    "documentos = loader.load()"
   ]
  },
  {
   "cell_type": "code",
   "execution_count": null,
   "id": "9dfe90b7",
   "metadata": {},
   "outputs": [],
   "source": [
    "len(documentos)"
   ]
  },
  {
   "cell_type": "code",
   "execution_count": null,
   "id": "52817dea",
   "metadata": {},
   "outputs": [],
   "source": [
    "documentos[0].page_content[:500]"
   ]
  },
  {
   "cell_type": "code",
   "execution_count": null,
   "id": "a67bb470",
   "metadata": {},
   "outputs": [],
   "source": [
    "pergunta = \"Faça um resumo breve do conteúdo da pagina.\"\n",
    "chain.run(input_documents=documentos, question=pergunta)"
   ]
  }
 ],
 "metadata": {
  "kernelspec": {
   "display_name": ".venv (3.13.7)",
   "language": "python",
   "name": "python3"
  },
  "language_info": {
   "codemirror_mode": {
    "name": "ipython",
    "version": 3
   },
   "file_extension": ".py",
   "mimetype": "text/x-python",
   "name": "python",
   "nbconvert_exporter": "python",
   "pygments_lexer": "ipython3",
   "version": "3.13.7"
  }
 },
 "nbformat": 4,
 "nbformat_minor": 5
}
