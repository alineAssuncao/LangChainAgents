{
 "cells": [
  {
   "cell_type": "code",
   "execution_count": 4,
   "id": "4b547107",
   "metadata": {},
   "outputs": [],
   "source": [
    "from langchain import OpenAI\n",
    "llm = OpenAI(model=\"gpt-3.5-turbo-instruct\")"
   ]
  },
  {
   "cell_type": "code",
   "execution_count": 5,
   "id": "4ce2741b",
   "metadata": {},
   "outputs": [
    {
     "data": {
      "text/plain": [
       "'\\n\\nEra uma vez um jovem cientista chamado Lucas, que sempre foi fascinado por tecnologia e computação. Desde criança, ele gostava de desmontar aparelhos eletrônicos para entender como funcionavam por dentro. Quando cresceu, decidiu estudar Ciência da Computação e se especializou em Inteligência Artificial e Aprendizado de Máquina.\\n\\nLucas estava sempre em busca de novos desafios e, em uma de suas pesquisas, descobriu o conceito de aprendizado de máquina. Ele ficou encantado com a ideia de que máquinas poderiam aprender e se adaptar por conta própria, sem a necessidade de programação manual.\\n\\nDecidido a aprofundar seus conhecimentos, Lucas se inscreveu em um curso de pós-graduação em Aprendizado de Máquina. Durante as aulas, ele aprendeu sobre algoritmos de aprendizagem, técnicas de análise de dados e como aplicar esses conceitos em diferentes áreas, como medicina, finanças e marketing.\\n\\nEm uma das aulas práticas, Lucas teve a oportunidade'"
      ]
     },
     "execution_count": 5,
     "metadata": {},
     "output_type": "execute_result"
    }
   ],
   "source": [
    "prompt = \"Conte uma historia sobre aprendizado de máquina\"\n",
    "llm.invoke(prompt)"
   ]
  },
  {
   "cell_type": "code",
   "execution_count": 6,
   "id": "8f94b6b6",
   "metadata": {},
   "outputs": [
    {
     "name": "stdout",
     "output_type": "stream",
     "text": [
      "\n",
      "\n",
      "Era uma vez, em um reino distante, um jovem príncipe chamado Thomas que se interessava pela arte da magia e pelo funcionamento do mundo ao seu redor. Ele sempre buscava aprender coisas novas e desvendar os mistérios que o cercavam.\n",
      "\n",
      "Um dia, o rei, pai de Thomas, convocou-o para uma importante missão: encontrar um tesouro escondido em um lugar mágico e repleto de perigos. O príncipe sabia que não seria uma tarefa fácil, mas aceitou o desafio com coragem e determinação.\n",
      "\n",
      "Ao chegar ao local indicado, Thomas se deparou com uma floresta densa e escura, onde os animais e plantas pareciam ter vida própria. Ele sabia que teria que usar seus conhecimentos de magia, mas também precisaria de algo mais para enfrentar os desafios daquela jornada.\n",
      "\n",
      "Foi então que ele lembrou de uma técnica que havia aprendido recentemente: o aprendizado de máquina. Essa técnica consistia em ensinar um computador a aprender e tomar decis"
     ]
    }
   ],
   "source": [
    "prompt = \"Conte uma historia sobre aprendizado de máquina\"\n",
    "for trecho in llm.invoke(prompt):\n",
    "    print(trecho, end=\"\")"
   ]
  },
  {
   "cell_type": "code",
   "execution_count": 7,
   "id": "95f30264",
   "metadata": {},
   "outputs": [
    {
     "data": {
      "text/plain": [
       "['\\nMemória RAM (Random Access Memory) é um tipo de memória volátil presente em computadores e dispositivos eletrônicos que armazena temporariamente os dados e programas que estão sendo usados pelo sistema operacional e pelos aplicativos em execução. É chamada de \"acesso aleatório\" porque permite que os dados sejam lidos e gravados em qualquer ordem, sem a necessidade de passar por toda a memória. A RAM é responsável por fornecer rapidez no acesso aos dados e permite que o computador execute várias tarefas ao mesmo tempo. Quando o computador é desligado, a memória RAM é apagada, perdendo todos os dados armazenados. ',\n",
       " '\\n\\nA função do processador é processar e executar instruções de programas e operações lógicas e aritméticas, controlar e coordenar o acesso à memória e aos dispositivos de entrada e saída, e gerenciar os recursos do sistema para garantir o funcionamento adequado do computador. Ele é considerado o \"cérebro\" do computador, responsável por executar todas as tarefas e operações necessárias para o funcionamento do sistema.',\n",
       " '\\n\\nUm disco rígido é um dispositivo de armazenamento de dados usado em computadores e outros dispositivos eletrônicos. Ele consiste em um disco magnético revestido por uma camada de material sensível ao magnetismo, que armazena as informações em forma de bits. Um braço mecânico lê e grava os dados no disco, permitindo que o computador acesse as informações armazenadas. O disco rígido é usado para armazenar permanentemente arquivos, programas e o sistema operacional do computador. É um componente essencial de um computador e é responsável pelo armazenamento de grande parte dos dados utilizados no dia a dia. ']"
      ]
     },
     "execution_count": 7,
     "metadata": {},
     "output_type": "execute_result"
    }
   ],
   "source": [
    "perguntas = [\n",
    "    \"O que é memória RAM?\",\n",
    "    \"Qual é a função do processador?\",\n",
    "    \"O que é um disco rígido?\"\n",
    "]\n",
    "\n",
    "llm.batch(perguntas)"
   ]
  },
  {
   "cell_type": "markdown",
   "id": "9aa3bd5b",
   "metadata": {},
   "source": [
    "### ChatModels"
   ]
  },
  {
   "cell_type": "code",
   "execution_count": 9,
   "id": "3707dd2b",
   "metadata": {},
   "outputs": [],
   "source": [
    "from langchain_openai import ChatOpenAI\n",
    "\n",
    "chat = ChatOpenAI(model=\"gpt-3.5-turbo-0125\")"
   ]
  },
  {
   "cell_type": "code",
   "execution_count": 10,
   "id": "c13e7a80",
   "metadata": {},
   "outputs": [],
   "source": [
    "from langchain_core.messages import HumanMessage, SystemMessage\n",
    "\n",
    "mensagens = [\n",
    "    SystemMessage(content=\"Você é um assistente útil.\"),\n",
    "    HumanMessage(content=\"Conte uma história sobre aprendizado de máquina.\")\n",
    "]\n",
    "\n",
    "resposta = chat.invoke(mensagens)"
   ]
  },
  {
   "cell_type": "code",
   "execution_count": 12,
   "id": "43016b14",
   "metadata": {},
   "outputs": [
    {
     "data": {
      "text/plain": [
       "'Há muito tempo em um reino distante, vivia um jovem feiticeiro chamado Merlin. Ele sempre foi fascinado por magia e encantamentos, e passava horas estudando os antigos livros de feitiçaria em sua torre. Porém, havia um mistério que o intrigava: criar uma poção que pudesse prever o futuro.\\n\\nDeterminado a desvendar esse enigma, Merlin decidiu aplicar seus conhecimentos em aprendizado de máquina. Ele passou dias e noites programando algoritmos e alimentando-os com dados mágicos coletados em suas viagens pelo reino. Com persistência e dedicação, Merlin finalmente conseguiu treinar sua máquina para prever com precisão alguns eventos futuros.\\n\\nA notícia se espalhou rapidamente pelo reino, e os habitantes começaram a se aproximar de Merlin em busca de conselhos e previsões. Graças ao aprendizado de máquina, o jovem feiticeiro se tornou uma figura respeitada e admirada por todos.\\n\\nNo entanto, Merlin logo percebeu que o aprendizado de máquina por si só não era suficiente. A interpretação dos dados e a intuição humana eram essenciais para compreender as previsões e agir de acordo com elas. Com humildade, o feiticeiro aprendeu que a magia da vida estava na combinação do conhecimento técnico com a sabedoria interior.\\n\\nE assim, Merlin continuou seu caminho, aprimorando suas habilidades em aprendizado de máquina e compartilhando seus ensinamentos com os que buscavam seu auxílio. Seu legado perdurou por gerações, mostrando que o verdadeiro aprendizado está na combinação da ciência e da intuição, da máquina e do coração.'"
      ]
     },
     "execution_count": 12,
     "metadata": {},
     "output_type": "execute_result"
    }
   ],
   "source": [
    "resposta.content"
   ]
  },
  {
   "cell_type": "code",
   "execution_count": 13,
   "id": "9591dd49",
   "metadata": {},
   "outputs": [
    {
     "data": {
      "text/plain": [
       "{'token_usage': {'completion_tokens': 416,\n",
       "  'prompt_tokens': 30,\n",
       "  'total_tokens': 446,\n",
       "  'completion_tokens_details': {'accepted_prediction_tokens': 0,\n",
       "   'audio_tokens': 0,\n",
       "   'reasoning_tokens': 0,\n",
       "   'rejected_prediction_tokens': 0},\n",
       "  'prompt_tokens_details': {'audio_tokens': 0, 'cached_tokens': 0}},\n",
       " 'model_name': 'gpt-3.5-turbo-0125',\n",
       " 'system_fingerprint': None,\n",
       " 'id': 'chatcmpl-C6peZkZCxywBZz6ELDwcPqo4qZTTG',\n",
       " 'service_tier': 'default',\n",
       " 'finish_reason': 'stop',\n",
       " 'logprobs': None}"
      ]
     },
     "execution_count": 13,
     "metadata": {},
     "output_type": "execute_result"
    }
   ],
   "source": [
    "resposta.response_metadata"
   ]
  },
  {
   "cell_type": "markdown",
   "id": "fa301f31",
   "metadata": {},
   "source": [
    "### Prompt Few Shot"
   ]
  },
  {
   "cell_type": "code",
   "execution_count": 14,
   "id": "c414de51",
   "metadata": {},
   "outputs": [],
   "source": [
    "from langchain_openai import ChatOpenAI\n",
    "\n",
    "chat = ChatOpenAI()"
   ]
  },
  {
   "cell_type": "code",
   "execution_count": 15,
   "id": "19521202",
   "metadata": {},
   "outputs": [
    {
     "data": {
      "text/plain": [
       "AIMessage(content='Sábado', additional_kwargs={'refusal': None}, response_metadata={'token_usage': {'completion_tokens': 2, 'prompt_tokens': 55, 'total_tokens': 57, 'completion_tokens_details': {'accepted_prediction_tokens': 0, 'audio_tokens': 0, 'reasoning_tokens': 0, 'rejected_prediction_tokens': 0}, 'prompt_tokens_details': {'audio_tokens': 0, 'cached_tokens': 0}}, 'model_name': 'gpt-3.5-turbo-0125', 'system_fingerprint': None, 'id': 'chatcmpl-C6pl8w1WDYUkJtbEBi9cMz2otsLxZ', 'service_tier': 'default', 'finish_reason': 'stop', 'logprobs': None}, id='run--2ff05544-8828-498a-a9d6-29fea39ce58f-0', usage_metadata={'input_tokens': 55, 'output_tokens': 2, 'total_tokens': 57, 'input_token_details': {'audio': 0, 'cache_read': 0}, 'output_token_details': {'audio': 0, 'reasoning': 0}})"
      ]
     },
     "execution_count": 15,
     "metadata": {},
     "output_type": "execute_result"
    }
   ],
   "source": [
    "from langchain_core.messages import HumanMessage, AIMessage\n",
    "\n",
    "mensagens = [\n",
    "    HumanMessage(content=\"Qual é o primeiro dia da semana?\"),\n",
    "    AIMessage(content=\"Domingo\"),\n",
    "    HumanMessage(content=\"Qual é o terceiro dia da semana?\"),\n",
    "    AIMessage(content=\"Terça-feira\"),\n",
    "    HumanMessage(content=\"Qual é o ultimo dia da semana?\")\n",
    "]\n",
    "\n",
    "chat.invoke(mensagens)"
   ]
  },
  {
   "cell_type": "code",
   "execution_count": 17,
   "id": "3356f34d",
   "metadata": {},
   "outputs": [
    {
     "data": {
      "text/plain": [
       "AIMessage(content='Domingo.', additional_kwargs={'refusal': None}, response_metadata={'token_usage': {'completion_tokens': 4, 'prompt_tokens': 55, 'total_tokens': 59, 'completion_tokens_details': {'accepted_prediction_tokens': 0, 'audio_tokens': 0, 'reasoning_tokens': 0, 'rejected_prediction_tokens': 0}, 'prompt_tokens_details': {'audio_tokens': 0, 'cached_tokens': 0}}, 'model_name': 'gpt-3.5-turbo-0125', 'system_fingerprint': None, 'id': 'chatcmpl-C6pmKICP89GaRgT9UEkNs202scWso', 'service_tier': 'default', 'finish_reason': 'stop', 'logprobs': None}, id='run--5cbe1244-4dc8-4521-8aea-1921932cd07a-0', usage_metadata={'input_tokens': 55, 'output_tokens': 4, 'total_tokens': 59, 'input_token_details': {'audio': 0, 'cache_read': 0}, 'output_token_details': {'audio': 0, 'reasoning': 0}})"
      ]
     },
     "execution_count": 17,
     "metadata": {},
     "output_type": "execute_result"
    }
   ],
   "source": [
    "import langchain\n",
    "\n",
    "langchain.debug = False\n",
    "chat.invoke(mensagens)"
   ]
  },
  {
   "cell_type": "markdown",
   "id": "dbd6be34",
   "metadata": {},
   "source": [
    "### Cacheamento"
   ]
  },
  {
   "cell_type": "code",
   "execution_count": 18,
   "id": "6c54998d",
   "metadata": {},
   "outputs": [],
   "source": [
    "from langchain_openai.chat_models import ChatOpenAI\n",
    "\n",
    "chat = ChatOpenAI(model=\"gpt-3.5-turbo-0125\")"
   ]
  },
  {
   "cell_type": "code",
   "execution_count": 19,
   "id": "e14f22d5",
   "metadata": {},
   "outputs": [],
   "source": [
    "from langchain_core.messages import HumanMessage, SystemMessage\n",
    "\n",
    "mesagens = [\n",
    "    SystemMessage(content=\"Você é um assistente irônico.\"),\n",
    "    HumanMessage(content=\"Qual o quinto dia da semana?\")\n",
    "]"
   ]
  },
  {
   "cell_type": "code",
   "execution_count": 21,
   "id": "7635cda0",
   "metadata": {},
   "outputs": [],
   "source": [
    "from langchain.cache import InMemoryCache\n",
    "from langchain.globals import set_llm_cache\n",
    "\n",
    "set_llm_cache(InMemoryCache())"
   ]
  },
  {
   "cell_type": "code",
   "execution_count": 24,
   "id": "320f3396",
   "metadata": {},
   "outputs": [
    {
     "name": "stdout",
     "output_type": "stream",
     "text": [
      "CPU times: total: 0 ns\n",
      "Wall time: 352 μs\n"
     ]
    },
    {
     "data": {
      "text/plain": [
       "AIMessage(content='Domingo', additional_kwargs={'refusal': None}, response_metadata={'token_usage': {'completion_tokens': 3, 'prompt_tokens': 55, 'total_tokens': 58, 'completion_tokens_details': {'accepted_prediction_tokens': 0, 'audio_tokens': 0, 'reasoning_tokens': 0, 'rejected_prediction_tokens': 0}, 'prompt_tokens_details': {'audio_tokens': 0, 'cached_tokens': 0}}, 'model_name': 'gpt-3.5-turbo-0125', 'system_fingerprint': None, 'id': 'chatcmpl-C6pqj6gmnTrTGY3nrukuaN2PjAMYi', 'service_tier': 'default', 'finish_reason': 'stop', 'logprobs': None}, id='run--52a80dff-3480-4603-9f53-f4c115e2899b-0', usage_metadata={'input_tokens': 55, 'output_tokens': 3, 'total_tokens': 58, 'input_token_details': {'audio': 0, 'cache_read': 0}, 'output_token_details': {'audio': 0, 'reasoning': 0}, 'total_cost': 0})"
      ]
     },
     "execution_count": 24,
     "metadata": {},
     "output_type": "execute_result"
    }
   ],
   "source": [
    "%%time\n",
    "chat.invoke(mensagens)"
   ]
  },
  {
   "cell_type": "code",
   "execution_count": 25,
   "id": "97e3e7d8",
   "metadata": {},
   "outputs": [
    {
     "name": "stdout",
     "output_type": "stream",
     "text": [
      "CPU times: total: 0 ns\n",
      "Wall time: 333 μs\n"
     ]
    },
    {
     "data": {
      "text/plain": [
       "AIMessage(content='Domingo', additional_kwargs={'refusal': None}, response_metadata={'token_usage': {'completion_tokens': 3, 'prompt_tokens': 55, 'total_tokens': 58, 'completion_tokens_details': {'accepted_prediction_tokens': 0, 'audio_tokens': 0, 'reasoning_tokens': 0, 'rejected_prediction_tokens': 0}, 'prompt_tokens_details': {'audio_tokens': 0, 'cached_tokens': 0}}, 'model_name': 'gpt-3.5-turbo-0125', 'system_fingerprint': None, 'id': 'chatcmpl-C6pqj6gmnTrTGY3nrukuaN2PjAMYi', 'service_tier': 'default', 'finish_reason': 'stop', 'logprobs': None}, id='run--52a80dff-3480-4603-9f53-f4c115e2899b-0', usage_metadata={'input_tokens': 55, 'output_tokens': 3, 'total_tokens': 58, 'input_token_details': {'audio': 0, 'cache_read': 0}, 'output_token_details': {'audio': 0, 'reasoning': 0}, 'total_cost': 0})"
      ]
     },
     "execution_count": 25,
     "metadata": {},
     "output_type": "execute_result"
    }
   ],
   "source": [
    "%%time\n",
    "chat.invoke(mensagens)"
   ]
  },
  {
   "cell_type": "code",
   "execution_count": 26,
   "id": "ae8f8149",
   "metadata": {},
   "outputs": [],
   "source": [
    "from langchain.cache import SQLiteCache\n",
    "from langchain.globals import set_llm_cache\n",
    "\n",
    "set_llm_cache(SQLiteCache(database_path=\"files/langchain_cache.sqlite\"))"
   ]
  },
  {
   "cell_type": "code",
   "execution_count": 27,
   "id": "b558df6e",
   "metadata": {},
   "outputs": [
    {
     "name": "stdout",
     "output_type": "stream",
     "text": [
      "CPU times: total: 15.6 ms\n",
      "Wall time: 1.47 s\n"
     ]
    },
    {
     "data": {
      "text/plain": [
       "AIMessage(content='Sábado.', additional_kwargs={'refusal': None}, response_metadata={'token_usage': {'completion_tokens': 3, 'prompt_tokens': 55, 'total_tokens': 58, 'completion_tokens_details': {'accepted_prediction_tokens': 0, 'audio_tokens': 0, 'reasoning_tokens': 0, 'rejected_prediction_tokens': 0}, 'prompt_tokens_details': {'audio_tokens': 0, 'cached_tokens': 0}}, 'model_name': 'gpt-3.5-turbo-0125', 'system_fingerprint': None, 'id': 'chatcmpl-C6ptCPkPqrk8AEsXpEfKwX8n1zfGr', 'service_tier': 'default', 'finish_reason': 'stop', 'logprobs': None}, id='run--abc5ab67-31e2-4fd9-bf2b-2d5094dab3bb-0', usage_metadata={'input_tokens': 55, 'output_tokens': 3, 'total_tokens': 58, 'input_token_details': {'audio': 0, 'cache_read': 0}, 'output_token_details': {'audio': 0, 'reasoning': 0}})"
      ]
     },
     "execution_count": 27,
     "metadata": {},
     "output_type": "execute_result"
    }
   ],
   "source": [
    "%%time\n",
    "chat.invoke(mensagens)"
   ]
  },
  {
   "cell_type": "code",
   "execution_count": 28,
   "id": "bae3e87f",
   "metadata": {},
   "outputs": [
    {
     "name": "stdout",
     "output_type": "stream",
     "text": [
      "CPU times: total: 0 ns\n",
      "Wall time: 1.49 ms\n"
     ]
    },
    {
     "data": {
      "text/plain": [
       "AIMessage(content='Sábado.', additional_kwargs={'refusal': None}, response_metadata={'token_usage': {'completion_tokens': 3, 'prompt_tokens': 55, 'total_tokens': 58, 'completion_tokens_details': {'accepted_prediction_tokens': 0, 'audio_tokens': 0, 'reasoning_tokens': 0, 'rejected_prediction_tokens': 0}, 'prompt_tokens_details': {'audio_tokens': 0, 'cached_tokens': 0}}, 'model_name': 'gpt-3.5-turbo-0125', 'system_fingerprint': None, 'id': 'chatcmpl-C6ptCPkPqrk8AEsXpEfKwX8n1zfGr', 'service_tier': 'default', 'finish_reason': 'stop', 'logprobs': None}, id='run--abc5ab67-31e2-4fd9-bf2b-2d5094dab3bb-0', usage_metadata={'input_tokens': 55, 'output_tokens': 3, 'total_tokens': 58, 'input_token_details': {'audio': 0, 'cache_read': 0}, 'output_token_details': {'audio': 0, 'reasoning': 0}, 'total_cost': 0})"
      ]
     },
     "execution_count": 28,
     "metadata": {},
     "output_type": "execute_result"
    }
   ],
   "source": [
    "%%time\n",
    "chat.invoke(mensagens)"
   ]
  }
 ],
 "metadata": {
  "kernelspec": {
   "display_name": ".venv (3.13.7)",
   "language": "python",
   "name": "python3"
  },
  "language_info": {
   "codemirror_mode": {
    "name": "ipython",
    "version": 3
   },
   "file_extension": ".py",
   "mimetype": "text/x-python",
   "name": "python",
   "nbconvert_exporter": "python",
   "pygments_lexer": "ipython3",
   "version": "3.13.7"
  }
 },
 "nbformat": 4,
 "nbformat_minor": 5
}
