{
 "cells": [
  {
   "cell_type": "code",
   "execution_count": null,
   "id": "55f95aa2",
   "metadata": {},
   "outputs": [],
   "source": [
    "from langchain.memory import ConversationBufferMemory\n",
    "\n",
    "memory = ConversationBufferMemory(return_messages=True)\n",
    "memory.chat_memory.add_user_message(\"Olá\")\n",
    "memory.chat_memory.add_ai_message(\"Como vai?\")"
   ]
  },
  {
   "cell_type": "code",
   "execution_count": null,
   "id": "e426a980",
   "metadata": {},
   "outputs": [],
   "source": [
    "memory.load_memory_variables({})"
   ]
  },
  {
   "cell_type": "code",
   "execution_count": null,
   "id": "35aa2a2a",
   "metadata": {},
   "outputs": [],
   "source": [
    "from langchain_openai.chat_models import ChatOpenAI\n",
    "from langchain.chains.conversation.base import ConversationChain\n",
    "\n",
    "chat = ChatOpenAI()\n",
    "memory = ConversationBufferMemory()\n",
    "conversation = ConversationChain(\n",
    "    llm=chat,\n",
    "    memory=memory,\n",
    "    verbose=True\n",
    ")"
   ]
  },
  {
   "cell_type": "code",
   "execution_count": null,
   "id": "fdf5a6b1",
   "metadata": {},
   "outputs": [],
   "source": [
    "conversation.predict(input=\"Olá, meu nome é Rodrigo\")"
   ]
  },
  {
   "cell_type": "code",
   "execution_count": null,
   "id": "9a21707d",
   "metadata": {},
   "outputs": [],
   "source": [
    "conversation.predict(input=\"Como vai?\")"
   ]
  },
  {
   "cell_type": "code",
   "execution_count": null,
   "id": "262a9ef7",
   "metadata": {},
   "outputs": [],
   "source": [
    "conversation.predict(input=\"Qual é o meu nome?\")"
   ]
  },
  {
   "cell_type": "code",
   "execution_count": null,
   "id": "c0f2531d",
   "metadata": {},
   "outputs": [],
   "source": [
    "from langchain.memory import ConversationTokenBufferMemory"
   ]
  },
  {
   "cell_type": "code",
   "execution_count": null,
   "id": "e8b582bb",
   "metadata": {},
   "outputs": [],
   "source": [
    "from langchain_openai.chat_models import ChatOpenAI\n",
    "from langchain.chains.conversation.base import ConversationChain\n",
    "\n",
    "chat = ChatOpenAI()\n",
    "memory = ConversationTokenBufferMemory(llm=chat, max_token_limit=250)\n",
    "conversation = ConversationChain(\n",
    "    llm=chat,\n",
    "    memory=memory,\n",
    "    verbose=True\n",
    ")"
   ]
  },
  {
   "cell_type": "code",
   "execution_count": null,
   "id": "7c14de8d",
   "metadata": {},
   "outputs": [],
   "source": [
    "conversation.predict(input=\"Faça uma poesia de 400 palavras\")"
   ]
  },
  {
   "cell_type": "code",
   "execution_count": null,
   "id": "b46efaf0",
   "metadata": {},
   "outputs": [],
   "source": [
    "conversation.predict(input=\"Resuma a poesia anterior\")"
   ]
  }
 ],
 "metadata": {
  "kernelspec": {
   "display_name": ".venv (3.13.7)",
   "language": "python",
   "name": "python3"
  },
  "language_info": {
   "codemirror_mode": {
    "name": "ipython",
    "version": 3
   },
   "file_extension": ".py",
   "mimetype": "text/x-python",
   "name": "python",
   "nbconvert_exporter": "python",
   "pygments_lexer": "ipython3",
   "version": "3.13.7"
  }
 },
 "nbformat": 4,
 "nbformat_minor": 5
}
