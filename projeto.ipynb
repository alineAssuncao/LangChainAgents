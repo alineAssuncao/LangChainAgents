{
 "cells": [
  {
   "cell_type": "code",
   "execution_count": 1,
   "id": "66bcf655",
   "metadata": {},
   "outputs": [],
   "source": [
    "from langchain_openai import OpenAIEmbeddings\n",
    "from langchain_community.vectorstores.chroma import Chroma\n",
    "\n",
    "from langchain_community.document_loaders.pdf import PyPDFLoader\n",
    "from langchain_text_splitters import RecursiveCharacterTextSplitter"
   ]
  },
  {
   "cell_type": "code",
   "execution_count": 2,
   "id": "49a3ffea",
   "metadata": {},
   "outputs": [
    {
     "name": "stderr",
     "output_type": "stream",
     "text": [
      "Ignoring wrong pointing object 16 0 (offset 0)\n",
      "Ignoring wrong pointing object 18 0 (offset 0)\n",
      "Ignoring wrong pointing object 20 0 (offset 0)\n",
      "Ignoring wrong pointing object 22 0 (offset 0)\n",
      "Ignoring wrong pointing object 42 0 (offset 0)\n",
      "Ignoring wrong pointing object 50 0 (offset 0)\n",
      "Ignoring wrong pointing object 52 0 (offset 0)\n",
      "Ignoring wrong pointing object 54 0 (offset 0)\n",
      "Ignoring wrong pointing object 56 0 (offset 0)\n",
      "Ignoring wrong pointing object 58 0 (offset 0)\n",
      "Ignoring wrong pointing object 70 0 (offset 0)\n",
      "Ignoring wrong pointing object 72 0 (offset 0)\n",
      "Ignoring wrong pointing object 89 0 (offset 0)\n",
      "Ignoring wrong pointing object 91 0 (offset 0)\n",
      "Ignoring wrong pointing object 103 0 (offset 0)\n",
      "Ignoring wrong pointing object 108 0 (offset 0)\n",
      "Ignoring wrong pointing object 149 0 (offset 0)\n",
      "Ignoring wrong pointing object 155 0 (offset 0)\n",
      "Ignoring wrong pointing object 158 0 (offset 0)\n",
      "Ignoring wrong pointing object 160 0 (offset 0)\n",
      "Ignoring wrong pointing object 163 0 (offset 0)\n",
      "Ignoring wrong pointing object 165 0 (offset 0)\n"
     ]
    }
   ],
   "source": [
    "caminhos = [\n",
    "    \"files/apostila.pdf\",\n",
    "    \"files/LLM.pdf\",\n",
    "    ]\n",
    "\n",
    "paginas = []\n",
    "for caminho in caminhos:\n",
    "    loader = PyPDFLoader(caminho)\n",
    "    paginas.extend(loader.load())\n",
    "\n",
    "recur_split = RecursiveCharacterTextSplitter(\n",
    "    chunk_size=1000,\n",
    "    chunk_overlap=100,\n",
    "    separators=[\"\\n\\n\", \"\\n\", \".\", \" \", \"\"]\n",
    ")\n",
    "\n",
    "documents = recur_split.split_documents(paginas)\n",
    "\n",
    "for i, doc in enumerate(documents):\n",
    "    doc.metadata['source'] = doc.metadata['source'].replace('arquivos/', '')\n",
    "    doc.metadata['doc_id'] = i"
   ]
  },
  {
   "cell_type": "code",
   "execution_count": 3,
   "id": "9abc91e3",
   "metadata": {},
   "outputs": [],
   "source": [
    "diretorio = 'arquivos/chat_retrieval_db'\n",
    "\n",
    "embeddings_model = OpenAIEmbeddings()\n",
    "vectordb = Chroma.from_documents(\n",
    "    documents=documents,\n",
    "    embedding=embeddings_model,\n",
    "    persist_directory=diretorio\n",
    ")"
   ]
  },
  {
   "cell_type": "code",
   "execution_count": 4,
   "id": "c4b2a681",
   "metadata": {},
   "outputs": [],
   "source": [
    "from langchain_openai.chat_models import ChatOpenAI\n",
    "\n",
    "chat = ChatOpenAI(model=\"gpt-4o-mini\")"
   ]
  },
  {
   "cell_type": "code",
   "execution_count": 5,
   "id": "55ce4507",
   "metadata": {},
   "outputs": [],
   "source": [
    "from langchain.chains.retrieval_qa.base import RetrievalQA\n",
    "\n",
    "chat_chain = RetrievalQA.from_chain_type(\n",
    "    llm=chat,\n",
    "    retriever=vectordb.as_retriever(search_type='mmr'),\n",
    ")"
   ]
  },
  {
   "cell_type": "code",
   "execution_count": 6,
   "id": "d37a3bdf",
   "metadata": {},
   "outputs": [
    {
     "data": {
      "text/plain": [
       "{'query': 'O que é Hugging Face e como faço para acessá-lo?',\n",
       " 'result': 'Hugging Face é uma comunidade e plataforma que reúne centenas de milhares de modelos de contribuidores, focada em resolver diversos casos de uso em inteligência artificial, como geração de texto, resumo e classificação. Para acessá-lo, você pode visitar o site oficial da Hugging Face, onde você encontrará uma vasta coleção de modelos, além de tutoriais e recursos para ajudá-lo a começar a usar esses modelos em seus projetos.'}"
      ]
     },
     "execution_count": 6,
     "metadata": {},
     "output_type": "execute_result"
    }
   ],
   "source": [
    "pergunta = \"O que é Hugging Face e como faço para acessá-lo?\"\n",
    "chat_chain.invoke({\"query\": pergunta})"
   ]
  },
  {
   "cell_type": "code",
   "execution_count": 7,
   "id": "4ef77eea",
   "metadata": {},
   "outputs": [],
   "source": [
    "from langchain.prompts import PromptTemplate\n",
    "\n",
    "chain_prompt = PromptTemplate.from_template(\n",
    "\"\"\"Utilize o contexto fornecido para responder a pergunta ao final. \n",
    "Se você não sabe a resposta, apenas diga que não sabe e não invente uma resposta.\n",
    "Utilize três frases no máximo, mantenha a resposta concisa.\n",
    "\n",
    "Contexto: {context}\n",
    "\n",
    "Pergunta: {question}\n",
    "\n",
    "Resposta:\n",
    "\"\"\"\n",
    ")"
   ]
  },
  {
   "cell_type": "code",
   "execution_count": 8,
   "id": "58720d2b",
   "metadata": {},
   "outputs": [],
   "source": [
    "chat_chain = RetrievalQA.from_chain_type(\n",
    "    llm=chat,\n",
    "    retriever=vectordb.as_retriever(search_type=\"mmr\"),\n",
    "    chain_type_kwargs={\"prompt\":chain_prompt},\n",
    "    return_source_documents=True\n",
    ")"
   ]
  },
  {
   "cell_type": "code",
   "execution_count": 9,
   "id": "7da70672",
   "metadata": {},
   "outputs": [
    {
     "name": "stdout",
     "output_type": "stream",
     "text": [
      "Hugging Face é uma comunidade que oferece centenas de milhares de modelos de código aberto, incluindo ferramentas para geração de texto e classificação. Para acessar, você pode visitar o site da Hugging Face e explorar os modelos disponíveis ou participar da comunidade. Além disso, há recursos educacionais, como cursos e palestras, para ajudá-lo a se aprofundar no uso de LLMs.\n"
     ]
    }
   ],
   "source": [
    "pergunta = 'O que é Hugging Face e como faço para acessá-lo?'\n",
    "resposta = chat_chain.invoke({'query': pergunta})\n",
    "print(resposta['result'])"
   ]
  },
  {
   "cell_type": "code",
   "execution_count": 10,
   "id": "ef4101fc",
   "metadata": {},
   "outputs": [
    {
     "data": {
      "text/plain": [
       "[Document(metadata={'creator': 'PyPDF', 'source': 'files/LLM.pdf', 'page': 5, 'page_label': '6', 'total_pages': 9, 'doc_id': 71, 'moddate': \"D:20231017132635Z00'00'\", 'producer': 'macOS Version 13.5 (Build 22G74) Quartz PDFContext', 'creationdate': \"D:20231017132635Z00'00'\"}, page_content='. Comunidades como a Hugging Face reúnem centenas de milhares de modelos de contribuidores que podem ajudar a resolver muitos casos de uso específicos, como geração de texto, resumo e classificação. A comunidade de código aberto está rapidamente alcançando o desempenho dos modelos proprietários, mas ainda não conseguiu igualar o desempenho de algo como o GPT-4.'),\n",
       " Document(metadata={'creationdate': \"D:20231017132635Z00'00'\", 'page_label': '8', 'total_pages': 9, 'doc_id': 77, 'moddate': \"D:20231017132635Z00'00'\", 'page': 7, 'source': 'files/LLM.pdf', 'creator': 'PyPDF', 'producer': 'macOS Version 13.5 (Build 22G74) Quartz PDFContext'}, page_content='E agora, o que fazer se eu quiser começar a usar LLMs?    Isso depende de onde você está em sua jornada. Felizmente, temos algumas opções para você. Se você deseja se aprofundar um pouco mais nos LLMs, mas ainda não quer fazer isso por conta própria, pode assistir a uma das apresentações sob demanda de um dos desenvolvedores e palestrantes mais talentosos da Databricks sobre esses conceitos em mais detalhes, durante a palestra “Crie seu próprio grande modelo de linguagem como Dolly”. Se você quiser se aprofundar um pouco mais e expandir seus conhecimentos e compreensão dos fundamentos dos LLMs, recomendamos conferir nosso curso sobre LLMs. Você aprenderá como desenvolver aplicativos prontos para produção com LLMs e se aprofundará na teoria por trás dos modelos de fundação'),\n",
       " Document(metadata={'producer': 'Microsoft® Word 2013', 'author': 'lucas', 'page_label': '4', 'total_pages': 28, 'creator': 'Microsoft® Word 2013', 'source': 'files/apostila.pdf', 'moddate': '2016-05-04T10:06:39-03:00', 'creationdate': '2016-05-04T10:06:39-03:00', 'doc_id': 9, 'page': 3}, page_content='Reforçando, este é um material introdutório. Tem muito mais para aprender em Python: \\norientação a objetos, programação funcional, metaprogramação, interface gráfica, \\nexpressões regulares, threads, tratamento de exceções, funções anônimas, geradores, \\ndesenvolvimento web, aplicativos móveis, entre outras.  \\nBem-vindo ao mundo Python! \\n \\n \\n \\nProf. Dr. João Luiz Franco \\nTutor do grupo PET - ADS / São Carlos'),\n",
       " Document(metadata={'doc_id': 59, 'page': 3, 'source': 'files/LLM.pdf', 'total_pages': 9, 'producer': 'macOS Version 13.5 (Build 22G74) Quartz PDFContext', 'creationdate': \"D:20231017132635Z00'00'\", 'page_label': '4', 'moddate': \"D:20231017132635Z00'00'\", 'creator': 'PyPDF'}, page_content='. Notavelmente, um dos maiores saltos de desempenho veio da integração do feedback humano diretamente no processo de treinamento.')]"
      ]
     },
     "execution_count": 10,
     "metadata": {},
     "output_type": "execute_result"
    }
   ],
   "source": [
    "resposta['source_documents']"
   ]
  },
  {
   "cell_type": "code",
   "execution_count": 11,
   "id": "11c20736",
   "metadata": {},
   "outputs": [
    {
     "name": "stdout",
     "output_type": "stream",
     "text": [
      "\u001b[32;1m\u001b[1;3m[chain/start]\u001b[0m \u001b[1m[chain:RetrievalQA] Entering Chain run with input:\n",
      "\u001b[0m{\n",
      "  \"query\": \"O que é Hugging Face e como faço para acessá-lo?\"\n",
      "}\n",
      "\u001b[32;1m\u001b[1;3m[chain/start]\u001b[0m \u001b[1m[chain:RetrievalQA > chain:StuffDocumentsChain] Entering Chain run with input:\n",
      "\u001b[0m[inputs]\n",
      "\u001b[32;1m\u001b[1;3m[chain/start]\u001b[0m \u001b[1m[chain:RetrievalQA > chain:StuffDocumentsChain > chain:LLMChain] Entering Chain run with input:\n",
      "\u001b[0m{\n",
      "  \"question\": \"O que é Hugging Face e como faço para acessá-lo?\",\n",
      "  \"context\": \". Comunidades como a Hugging Face reúnem centenas de milhares de modelos de contribuidores que podem ajudar a resolver muitos casos de uso específicos, como geração de texto, resumo e classificação. A comunidade de código aberto está rapidamente alcançando o desempenho dos modelos proprietários, mas ainda não conseguiu igualar o desempenho de algo como o GPT-4.\\n\\nE agora, o que fazer se eu quiser começar a usar LLMs?    Isso depende de onde você está em sua jornada. Felizmente, temos algumas opções para você. Se você deseja se aprofundar um pouco mais nos LLMs, mas ainda não quer fazer isso por conta própria, pode assistir a uma das apresentações sob demanda de um dos desenvolvedores e palestrantes mais talentosos da Databricks sobre esses conceitos em mais detalhes, durante a palestra “Crie seu próprio grande modelo de linguagem como Dolly”. Se você quiser se aprofundar um pouco mais e expandir seus conhecimentos e compreensão dos fundamentos dos LLMs, recomendamos conferir nosso curso sobre LLMs. Você aprenderá como desenvolver aplicativos prontos para produção com LLMs e se aprofundará na teoria por trás dos modelos de fundação\\n\\nReforçando, este é um material introdutório. Tem muito mais para aprender em Python: \\norientação a objetos, programação funcional, metaprogramação, interface gráfica, \\nexpressões regulares, threads, tratamento de exceções, funções anônimas, geradores, \\ndesenvolvimento web, aplicativos móveis, entre outras.  \\nBem-vindo ao mundo Python! \\n \\n \\n \\nProf. Dr. João Luiz Franco \\nTutor do grupo PET - ADS / São Carlos\\n\\n. Notavelmente, um dos maiores saltos de desempenho veio da integração do feedback humano diretamente no processo de treinamento.\"\n",
      "}\n",
      "\u001b[32;1m\u001b[1;3m[llm/start]\u001b[0m \u001b[1m[chain:RetrievalQA > chain:StuffDocumentsChain > chain:LLMChain > llm:ChatOpenAI] Entering LLM run with input:\n",
      "\u001b[0m{\n",
      "  \"prompts\": [\n",
      "    \"Human: Utilize o contexto fornecido para responder a pergunta ao final. \\nSe você não sabe a resposta, apenas diga que não sabe e não invente uma resposta.\\nUtilize três frases no máximo, mantenha a resposta concisa.\\n\\nContexto: . Comunidades como a Hugging Face reúnem centenas de milhares de modelos de contribuidores que podem ajudar a resolver muitos casos de uso específicos, como geração de texto, resumo e classificação. A comunidade de código aberto está rapidamente alcançando o desempenho dos modelos proprietários, mas ainda não conseguiu igualar o desempenho de algo como o GPT-4.\\n\\nE agora, o que fazer se eu quiser começar a usar LLMs?    Isso depende de onde você está em sua jornada. Felizmente, temos algumas opções para você. Se você deseja se aprofundar um pouco mais nos LLMs, mas ainda não quer fazer isso por conta própria, pode assistir a uma das apresentações sob demanda de um dos desenvolvedores e palestrantes mais talentosos da Databricks sobre esses conceitos em mais detalhes, durante a palestra “Crie seu próprio grande modelo de linguagem como Dolly”. Se você quiser se aprofundar um pouco mais e expandir seus conhecimentos e compreensão dos fundamentos dos LLMs, recomendamos conferir nosso curso sobre LLMs. Você aprenderá como desenvolver aplicativos prontos para produção com LLMs e se aprofundará na teoria por trás dos modelos de fundação\\n\\nReforçando, este é um material introdutório. Tem muito mais para aprender em Python: \\norientação a objetos, programação funcional, metaprogramação, interface gráfica, \\nexpressões regulares, threads, tratamento de exceções, funções anônimas, geradores, \\ndesenvolvimento web, aplicativos móveis, entre outras.  \\nBem-vindo ao mundo Python! \\n \\n \\n \\nProf. Dr. João Luiz Franco \\nTutor do grupo PET - ADS / São Carlos\\n\\n. Notavelmente, um dos maiores saltos de desempenho veio da integração do feedback humano diretamente no processo de treinamento.\\n\\nPergunta: O que é Hugging Face e como faço para acessá-lo?\\n\\nResposta:\"\n",
      "  ]\n",
      "}\n",
      "\u001b[36;1m\u001b[1;3m[llm/end]\u001b[0m \u001b[1m[chain:RetrievalQA > chain:StuffDocumentsChain > chain:LLMChain > llm:ChatOpenAI] [1.68s] Exiting LLM run with output:\n",
      "\u001b[0m{\n",
      "  \"generations\": [\n",
      "    [\n",
      "      {\n",
      "        \"text\": \"Hugging Face é uma comunidade que reúne modelos de aprendizado de máquina, focada em LLMs, permitindo que usuários acessem uma variedade de modelos para resolver diferentes problemas. Você pode acessar Hugging Face através do site oficial, onde pode explorar modelos, documentação e ferramentas. Para começar, é recomendado verificar as apresentações e cursos oferecidos para se aprofundar no uso de LLMs.\",\n",
      "        \"generation_info\": {\n",
      "          \"finish_reason\": \"stop\",\n",
      "          \"logprobs\": null\n",
      "        },\n",
      "        \"type\": \"ChatGeneration\",\n",
      "        \"message\": {\n",
      "          \"lc\": 1,\n",
      "          \"type\": \"constructor\",\n",
      "          \"id\": [\n",
      "            \"langchain\",\n",
      "            \"schema\",\n",
      "            \"messages\",\n",
      "            \"AIMessage\"\n",
      "          ],\n",
      "          \"kwargs\": {\n",
      "            \"content\": \"Hugging Face é uma comunidade que reúne modelos de aprendizado de máquina, focada em LLMs, permitindo que usuários acessem uma variedade de modelos para resolver diferentes problemas. Você pode acessar Hugging Face através do site oficial, onde pode explorar modelos, documentação e ferramentas. Para começar, é recomendado verificar as apresentações e cursos oferecidos para se aprofundar no uso de LLMs.\",\n",
      "            \"additional_kwargs\": {\n",
      "              \"refusal\": null\n",
      "            },\n",
      "            \"response_metadata\": {\n",
      "              \"token_usage\": {\n",
      "                \"completion_tokens\": 80,\n",
      "                \"prompt_tokens\": 435,\n",
      "                \"total_tokens\": 515,\n",
      "                \"completion_tokens_details\": {\n",
      "                  \"accepted_prediction_tokens\": 0,\n",
      "                  \"audio_tokens\": 0,\n",
      "                  \"reasoning_tokens\": 0,\n",
      "                  \"rejected_prediction_tokens\": 0\n",
      "                },\n",
      "                \"prompt_tokens_details\": {\n",
      "                  \"audio_tokens\": 0,\n",
      "                  \"cached_tokens\": 0\n",
      "                }\n",
      "              },\n",
      "              \"model_name\": \"gpt-4o-mini-2024-07-18\",\n",
      "              \"system_fingerprint\": \"fp_51db84afab\",\n",
      "              \"id\": \"chatcmpl-C7weWlBt8aTMYe8VfF27ds1HNGwY9\",\n",
      "              \"service_tier\": \"default\",\n",
      "              \"finish_reason\": \"stop\",\n",
      "              \"logprobs\": null\n",
      "            },\n",
      "            \"type\": \"ai\",\n",
      "            \"id\": \"run--1f26e3b8-3efd-418b-b87d-2616bb438d75-0\",\n",
      "            \"usage_metadata\": {\n",
      "              \"input_tokens\": 435,\n",
      "              \"output_tokens\": 80,\n",
      "              \"total_tokens\": 515,\n",
      "              \"input_token_details\": {\n",
      "                \"audio\": 0,\n",
      "                \"cache_read\": 0\n",
      "              },\n",
      "              \"output_token_details\": {\n",
      "                \"audio\": 0,\n",
      "                \"reasoning\": 0\n",
      "              }\n",
      "            },\n",
      "            \"tool_calls\": [],\n",
      "            \"invalid_tool_calls\": []\n",
      "          }\n",
      "        }\n",
      "      }\n",
      "    ]\n",
      "  ],\n",
      "  \"llm_output\": {\n",
      "    \"token_usage\": {\n",
      "      \"completion_tokens\": 80,\n",
      "      \"prompt_tokens\": 435,\n",
      "      \"total_tokens\": 515,\n",
      "      \"completion_tokens_details\": {\n",
      "        \"accepted_prediction_tokens\": 0,\n",
      "        \"audio_tokens\": 0,\n",
      "        \"reasoning_tokens\": 0,\n",
      "        \"rejected_prediction_tokens\": 0\n",
      "      },\n",
      "      \"prompt_tokens_details\": {\n",
      "        \"audio_tokens\": 0,\n",
      "        \"cached_tokens\": 0\n",
      "      }\n",
      "    },\n",
      "    \"model_name\": \"gpt-4o-mini-2024-07-18\",\n",
      "    \"system_fingerprint\": \"fp_51db84afab\",\n",
      "    \"id\": \"chatcmpl-C7weWlBt8aTMYe8VfF27ds1HNGwY9\",\n",
      "    \"service_tier\": \"default\"\n",
      "  },\n",
      "  \"run\": null,\n",
      "  \"type\": \"LLMResult\"\n",
      "}\n",
      "\u001b[36;1m\u001b[1;3m[chain/end]\u001b[0m \u001b[1m[chain:RetrievalQA > chain:StuffDocumentsChain > chain:LLMChain] [1.68s] Exiting Chain run with output:\n",
      "\u001b[0m{\n",
      "  \"text\": \"Hugging Face é uma comunidade que reúne modelos de aprendizado de máquina, focada em LLMs, permitindo que usuários acessem uma variedade de modelos para resolver diferentes problemas. Você pode acessar Hugging Face através do site oficial, onde pode explorar modelos, documentação e ferramentas. Para começar, é recomendado verificar as apresentações e cursos oferecidos para se aprofundar no uso de LLMs.\"\n",
      "}\n",
      "\u001b[36;1m\u001b[1;3m[chain/end]\u001b[0m \u001b[1m[chain:RetrievalQA > chain:StuffDocumentsChain] [1.68s] Exiting Chain run with output:\n",
      "\u001b[0m{\n",
      "  \"output_text\": \"Hugging Face é uma comunidade que reúne modelos de aprendizado de máquina, focada em LLMs, permitindo que usuários acessem uma variedade de modelos para resolver diferentes problemas. Você pode acessar Hugging Face através do site oficial, onde pode explorar modelos, documentação e ferramentas. Para começar, é recomendado verificar as apresentações e cursos oferecidos para se aprofundar no uso de LLMs.\"\n",
      "}\n",
      "\u001b[36;1m\u001b[1;3m[chain/end]\u001b[0m \u001b[1m[chain:RetrievalQA] [2.44s] Exiting Chain run with output:\n",
      "\u001b[0m[outputs]\n"
     ]
    }
   ],
   "source": [
    "from langchain.globals import set_debug\n",
    "\n",
    "set_debug(True)\n",
    "\n",
    "pergunta = 'O que é Hugging Face e como faço para acessá-lo?'\n",
    "resposta = chat_chain.invoke({'query': pergunta})\n",
    "\n",
    "set_debug(False)"
   ]
  },
  {
   "cell_type": "code",
   "execution_count": 12,
   "id": "95094cfe",
   "metadata": {},
   "outputs": [
    {
     "name": "stdout",
     "output_type": "stream",
     "text": [
      "Hugging Face é uma comunidade e plataforma que reúne uma grande variedade de modelos de aprendizado de máquina, especialmente focados em modelos de linguagem, conhecidos como LLMs (Large Language Models). A plataforma é famosa por sua biblioteca \"Transformers\", que permite fácil acesso e implementação de modelos de aprendizado profundo para tarefas como geração de texto, resumo e classificação. Notavelmente, um dos maiores saltos de desempenho desses modelos veio da integração do feedback humano diretamente no processo de treinamento, o que ajuda a melhorar a qualidade e a relevância das respostas geradas.\n",
      "\n",
      "Para começar a usar Hugging Face, você pode seguir estes passos:\n",
      "\n",
      "1. **Visite o site**: Acesse o site oficial do Hugging Face em [huggingface.co](https://huggingface.co).\n",
      "2. **Criar uma conta**: Inscreva-se gratuitamente para acessar mais recursos e contribuir com a comunidade.\n",
      "3. **Navegar na biblioteca de modelos**: Explore a vasta coleção de modelos disponíveis, onde você pode encontrar modelos específicos para suas necessidades.\n",
      "4. **Utilizar a API ou biblioteca**: Se você é um desenvolvedor, integre os modelos da Hugging Face em seus projetos usando a biblioteca \"Transformers\", que está disponível no Python. Você também pode acessar os modelos via API para uma integração mais simples.\n",
      "\n",
      "Além disso, para aqueles que estão iniciando em programação com Python ou desejam aprimorar seus conhecimentos, é importante saber que há muitos outros tópicos para explorar, como: orientação a objetos, programação funcional, metaprogramação, interface gráfica, expressões regulares, tratamento de exceções, entre outros. Esses conceitos serão valiosos à medida que você progride e começa a desenvolver aplicativos mais complexos, incluindo aplicações web e móveis.\n",
      "\n",
      "Com esses passos e recursos adicionais, você estará bem encaminhado para explorar o potencial dos LLMs e aprimorar suas habilidades em Python. \n",
      "\n",
      "Prof. Dr. João Luiz Franco  \n",
      "Tutor do grupo PET - ADS / São Carlos\n"
     ]
    }
   ],
   "source": [
    "chat_chain = RetrievalQA.from_chain_type(\n",
    "    llm=chat,\n",
    "    retriever=vectordb.as_retriever(search_type='mmr'),\n",
    "    chain_type='refine'\n",
    ")\n",
    "\n",
    "pergunta = 'O que é Hugging Face e como faço para acessá-lo?'\n",
    "resposta = chat_chain.invoke({'query': pergunta})\n",
    "print(resposta['result'])"
   ]
  }
 ],
 "metadata": {
  "kernelspec": {
   "display_name": ".venv (3.13.7)",
   "language": "python",
   "name": "python3"
  },
  "language_info": {
   "codemirror_mode": {
    "name": "ipython",
    "version": 3
   },
   "file_extension": ".py",
   "mimetype": "text/x-python",
   "name": "python",
   "nbconvert_exporter": "python",
   "pygments_lexer": "ipython3",
   "version": "3.13.7"
  }
 },
 "nbformat": 4,
 "nbformat_minor": 5
}
