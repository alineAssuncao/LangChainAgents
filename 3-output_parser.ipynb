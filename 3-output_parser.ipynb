{
 "cells": [
  {
   "cell_type": "code",
   "execution_count": null,
   "id": "626cb2d3",
   "metadata": {},
   "outputs": [],
   "source": [
    "feedback_produto = \"\"\"\n",
    "Estou muito satisfeito com o Smartphone XYZ Pro. O desempenho é excelente, e o sistema \n",
    "operacional é rápido e intuitivo. A câmera é um dos principais destaques, especialmente o \n",
    "modo noturno, que captura imagens incríveis mesmo em baixa iluminação. A duração da bateria \n",
    "também impressiona, durando facilmente um dia inteiro com uso intenso.\n",
    "Por outro lado, sinto que o produto poderia ser melhorado em alguns aspectos. A tela, \n",
    "embora tenha cores vibrantes, parece refletir bastante luz, dificultando o uso sob o sol. \n",
    "Além disso, o carregador incluído na caixa não oferece carregamento rápido, o que é um ponto \n",
    "negativo considerando o preço do aparelho\n",
    "\"\"\""
   ]
  },
  {
   "cell_type": "code",
   "execution_count": null,
   "id": "4f30939f",
   "metadata": {},
   "outputs": [],
   "source": [
    "from langchain.prompts import ChatPromptTemplate\n",
    "\n",
    "review_template = ChatPromptTemplate.from_template(\n",
    "    \"\"\"\n",
    "    Para o texto a seguir, extraia as seguintes informações:\n",
    "    produto: Nome do produto mencionado no texto.\n",
    "    características_positivas: Liste todas as características positivas mencionadas sobre o produto.\n",
    "    características_negativas: Liste todas as características negativas mencionadas sobre o produto.\n",
    "    recomendação: O cliente recomenda o produto? Responda True para sim ou False para não.\n",
    "    \n",
    "    Texto: {review}\n",
    "    \n",
    "    Retorne a resposta no formato JSON\n",
    "    \"\"\"\n",
    ")"
   ]
  },
  {
   "cell_type": "code",
   "execution_count": null,
   "id": "19066f3f",
   "metadata": {},
   "outputs": [],
   "source": [
    "print(review_template.format_messages(review=feedback_produto))"
   ]
  },
  {
   "cell_type": "code",
   "execution_count": null,
   "id": "bc506a9b",
   "metadata": {},
   "outputs": [],
   "source": [
    "from langchain_openai.chat_models import ChatOpenAI\n",
    "\n",
    "chat = ChatOpenAI()\n",
    "resposta = chat.invoke(review_template.format_messages(review=feedback_produto))"
   ]
  },
  {
   "cell_type": "code",
   "execution_count": null,
   "id": "59b7bc19",
   "metadata": {},
   "outputs": [],
   "source": [
    "resposta.content"
   ]
  },
  {
   "cell_type": "code",
   "execution_count": null,
   "id": "eb63da7e",
   "metadata": {},
   "outputs": [],
   "source": [
    "from langchain.output_parsers import ResponseSchema\n",
    "from langchain.output_parsers import StructuredOutputParser"
   ]
  },
  {
   "cell_type": "code",
   "execution_count": null,
   "id": "76590b5a",
   "metadata": {},
   "outputs": [],
   "source": [
    "schema_produto = ResponseSchema(\n",
    "    name=\"produto\",\n",
    "    type=\"string\",\n",
    "    description=\"Nome do produto mencionado no texto\"\n",
    ")\n",
    "\n",
    "schema_positivas = ResponseSchema(\n",
    "    name=\"caracteristicas_positivas\",\n",
    "    type=\"list\",\n",
    "    description=\"Liste todas as características positivas mencionadas sobre o produto\"\n",
    ")\n",
    "\n",
    "schema_negativas = ResponseSchema(\n",
    "    name='características_negativas',\n",
    "    type='list',\n",
    "    description='Liste todas as características negativas mencionadas sobre o produto.'\n",
    ")\n",
    "\n",
    "schema_recomendacao = ResponseSchema(\n",
    "    name='recomendação',\n",
    "    type='bool',\n",
    "    description='O cliente recomenda o produto? Responda True para sim ou False para não.'\n",
    ")"
   ]
  },
  {
   "cell_type": "code",
   "execution_count": null,
   "id": "826c6afe",
   "metadata": {},
   "outputs": [],
   "source": [
    "response_schema = [schema_produto, schema_positivas, schema_negativas, schema_recomendacao]\n",
    "output_parser = StructuredOutputParser.from_response_schemas(response_schema)\n",
    "schema_formatado = output_parser.get_format_instructions()"
   ]
  },
  {
   "cell_type": "code",
   "execution_count": null,
   "id": "d7ac4c89",
   "metadata": {},
   "outputs": [],
   "source": [
    "print(schema_formatado)"
   ]
  },
  {
   "cell_type": "code",
   "execution_count": null,
   "id": "f1d69edb",
   "metadata": {},
   "outputs": [],
   "source": [
    "review_template2 = ChatPromptTemplate.from_template(\"\"\"\n",
    "Para o texto a seguir, extraia as seguintes informações:\n",
    "produto, caracteristicas_positivas, caracteristicas_negativas e recomendacao\n",
    "\n",
    "Texto: {review}\n",
    "\n",
    "{schema}\n",
    "\"\"\", partial_variables={\"schema\":schema_formatado}\n",
    ")"
   ]
  },
  {
   "cell_type": "code",
   "execution_count": null,
   "id": "ad7ae1c7",
   "metadata": {},
   "outputs": [],
   "source": [
    "print(review_template2.format_messages(review=feedback_produto))"
   ]
  },
  {
   "cell_type": "code",
   "execution_count": null,
   "id": "42ec4d0f",
   "metadata": {},
   "outputs": [],
   "source": [
    "resposta = chat.invoke(review_template2.format_messages(review=feedback_produto))\n",
    "resposta.content"
   ]
  },
  {
   "cell_type": "code",
   "execution_count": null,
   "id": "06ca6ad5",
   "metadata": {},
   "outputs": [],
   "source": [
    "resposta_json = output_parser.parse(resposta.content)"
   ]
  },
  {
   "cell_type": "code",
   "execution_count": null,
   "id": "e27182fc",
   "metadata": {},
   "outputs": [],
   "source": [
    "resposta_json[\"produto\"]"
   ]
  },
  {
   "cell_type": "code",
   "execution_count": null,
   "id": "82a3547c",
   "metadata": {},
   "outputs": [],
   "source": [
    "resposta_json[\"caracteristicas_positivas\"]"
   ]
  },
  {
   "cell_type": "code",
   "execution_count": null,
   "id": "99517e85",
   "metadata": {},
   "outputs": [],
   "source": [
    "resposta_json[\"características_negativas\"]"
   ]
  },
  {
   "cell_type": "code",
   "execution_count": null,
   "id": "33abc613",
   "metadata": {},
   "outputs": [],
   "source": [
    "resposta_json[\"recomendação\"]"
   ]
  }
 ],
 "metadata": {
  "kernelspec": {
   "display_name": ".venv (3.13.7)",
   "language": "python",
   "name": "python3"
  },
  "language_info": {
   "codemirror_mode": {
    "name": "ipython",
    "version": 3
   },
   "file_extension": ".py",
   "mimetype": "text/x-python",
   "name": "python",
   "nbconvert_exporter": "python",
   "pygments_lexer": "ipython3",
   "version": "3.13.7"
  }
 },
 "nbformat": 4,
 "nbformat_minor": 5
}
