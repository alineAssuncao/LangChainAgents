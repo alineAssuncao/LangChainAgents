{
 "cells": [
  {
   "cell_type": "code",
   "execution_count": null,
   "metadata": {},
   "outputs": [],
   "source": [
    "texto = \"\"\"\n",
    "A Microsoft foi fundada em 4 de abril de 1975 por Bill Gates e Paul Allen, em Albuquerque, \n",
    "no estado do Novo México. O nome \"Microsoft\" é uma combinação das palavras \"microcomputador\" \n",
    "e \"software\", refletindo o foco da empresa em software para computadores pessoais.\n",
    "O primeiro grande projeto da Microsoft foi a criação de um sistema operacional para o \n",
    "computador Altair 8800, um dos primeiros microcomputadores disponíveis comercialmente. \n",
    "O sistema, denominado Altair BASIC, foi desenvolvido em parceria com a MITS \n",
    "(Micro Instrumentation and Telemetry Systems) e foi um marco inicial para a Microsoft.\n",
    "Em 1980, a empresa firmou um contrato significativo com a IBM para fornecer o sistema \n",
    "operacional para o novo PC da IBM, o que levou à criação do MS-DOS. Esse contrato foi um \n",
    "ponto de virada para a Microsoft, impulsionando sua expansão e dominando o mercado de \n",
    "sistemas operacionais para PCs nos anos seguintes.\n",
    "Com o sucesso do MS-DOS, a Microsoft se consolidou como líder no setor de software e, \n",
    "em 1985, lançou o Windows, um sistema operacional gráfico que viria a se tornar a base \n",
    "de sua supremacia no mercado de sistemas operacionais para desktop.\n",
    "\"\"\""
   ]
  },
  {
   "cell_type": "code",
   "execution_count": null,
   "metadata": {},
   "outputs": [],
   "source": [
    "from langchain.pydantic_v1 import BaseModel, Field\n",
    "from typing import List\n",
    "from langchain_core.utils.function_calling import convert_to_openai_function"
   ]
  },
  {
   "cell_type": "code",
   "execution_count": null,
   "metadata": {},
   "outputs": [],
   "source": [
    "class Event(BaseModel):\n",
    "    \"\"\"Informações sobre um evento ocorrido\"\"\"\n",
    "    date: str = Field(description=\"Data do evento no formato YYYY-MM-DD\")\n",
    "    event: str = Field(description=\"Descrição do evento extraído do texto\")\n",
    "    \n",
    "class EventsList(BaseModel):\n",
    "    \"\"\"Lista de Eventos para Extração\"\"\"\n",
    "    events: List[Event] = Field(description=\"Conjunto de eventos encontrados no texto fornecido\")\n",
    "    \n",
    "tool_events = convert_to_openai_function(EventsList)\n",
    "tool_events"
   ]
  },
  {
   "cell_type": "code",
   "execution_count": null,
   "metadata": {},
   "outputs": [],
   "source": [
    "from langchain.prompts import ChatPromptTemplate\n",
    "from langchain_openai import ChatOpenAI\n",
    "\n",
    "prompt = ChatPromptTemplate.from_messages([\n",
    "    (\"system\", \"Extraia as frases de acontecimentos e as extraia integralmente\"),\n",
    "    (\"user\", \"{input}\")\n",
    "])\n",
    "\n",
    "chat = ChatOpenAI()\n",
    "\n",
    "chain = (prompt | chat.bind(functions=[tool_events],\n",
    "                            function_call={\"name\":\"EventsList\"}))"
   ]
  },
  {
   "cell_type": "code",
   "execution_count": null,
   "metadata": {},
   "outputs": [],
   "source": [
    "chain.invoke({\"input\": texto})"
   ]
  },
  {
   "cell_type": "code",
   "execution_count": null,
   "metadata": {},
   "outputs": [],
   "source": [
    "from langchain.output_parsers.openai_functions import JsonOutputFunctionsParser\n",
    "\n",
    "chain = (prompt \n",
    "         | chat.bind(functions=[tool_events], function_call={'name': 'EventsList'})\n",
    "         | JsonOutputFunctionsParser())\n",
    "\n",
    "chain.invoke({'input': texto})"
   ]
  },
  {
   "cell_type": "markdown",
   "metadata": {},
   "source": [
    "### Dados da Web"
   ]
  },
  {
   "cell_type": "code",
   "execution_count": null,
   "metadata": {},
   "outputs": [],
   "source": [
    "from langchain_community.document_loaders.web_base import WebBaseLoader\n",
    "\n",
    "loader = WebBaseLoader(\"https://www.techtudo.com.br\")\n",
    "page = loader.load()\n",
    "page"
   ]
  },
  {
   "cell_type": "code",
   "execution_count": null,
   "metadata": {},
   "outputs": [],
   "source": [
    "class BlogPost(BaseModel):\n",
    "    \"\"\"Detalhes sobre uma postagem de blog\"\"\"\n",
    "    title: str = Field(description=\"Título da postagem no blog\")\n",
    "    author: str = Field(description=\"Nome do autor da postagem no blog\")\n",
    "    \n",
    "class BlogSite(BaseModel):\n",
    "    \"\"\"Conjunto de postagens de blog de um site específico\"\"\"\n",
    "    posts: List[BlogPost] = Field(description=\"Coleção de postagens de blog do site\")\n",
    "    \n",
    "tool_blog = convert_to_openai_function(BlogSite)\n",
    "tool_blog"
   ]
  },
  {
   "cell_type": "code",
   "execution_count": null,
   "metadata": {},
   "outputs": [],
   "source": [
    "from langchain.output_parsers.openai_functions import JsonKeyOutputFunctionsParser\n",
    "from langchain.prompts import ChatPromptTemplate\n",
    "from langchain_openai import ChatOpenAI\n",
    "\n",
    "prompt = ChatPromptTemplate.from_messages([\n",
    "    ('system', 'Extraia da página os posts do blog com as informações especificadas'),\n",
    "    ('user', '{input}')\n",
    "])\n",
    "chat = ChatOpenAI()\n",
    "chain = (prompt \n",
    "         | chat.bind(functions=[tool_blog], function_call={'name': 'BlogSite'})\n",
    "         | JsonKeyOutputFunctionsParser(key_name='posts'))"
   ]
  },
  {
   "cell_type": "code",
   "execution_count": null,
   "metadata": {},
   "outputs": [],
   "source": [
    "chain.invoke({\"input\": page})"
   ]
  }
 ],
 "metadata": {
  "kernelspec": {
   "display_name": ".venv (3.13.7)",
   "language": "python",
   "name": "python3"
  },
  "language_info": {
   "codemirror_mode": {
    "name": "ipython",
    "version": 3
   },
   "file_extension": ".py",
   "mimetype": "text/x-python",
   "name": "python",
   "nbconvert_exporter": "python",
   "pygments_lexer": "ipython3",
   "version": "3.13.7"
  }
 },
 "nbformat": 4,
 "nbformat_minor": 2
}
