{
 "cells": [
  {
   "cell_type": "code",
   "execution_count": null,
   "metadata": {},
   "outputs": [],
   "source": [
    "from langchain.agents import initialize_agent, Tool, AgentType\n",
    "from langchain.llms import OpenAI\n",
    "\n",
    "llm = OpenAI(temperature=0)\n",
    "\n",
    "def resposta_simples(query):\n",
    "    return f\"A resposta para '{query}' é Paris.\""
   ]
  },
  {
   "cell_type": "code",
   "execution_count": null,
   "metadata": {},
   "outputs": [],
   "source": [
    "tools = [\n",
    "    Tool(\n",
    "        name=\"Respostas Simples\",\n",
    "        func=resposta_simples,\n",
    "        description=\"Uma ferramenta simples para responder perguntas diretas\"\n",
    "    )\n",
    "]"
   ]
  },
  {
   "cell_type": "code",
   "execution_count": null,
   "metadata": {},
   "outputs": [],
   "source": [
    "agent = initialize_agent(tools, llm, agent_type=AgentType.ZERO_SHOT_REACT_DESCRIPTION, verbose=True)\n",
    "\n",
    "input_query = \"QUal é a capital da França?\"\n",
    "response = agent.run(input_query)\n",
    "print(response)"
   ]
  },
  {
   "cell_type": "code",
   "execution_count": null,
   "metadata": {},
   "outputs": [],
   "source": [
    "from langchain.agents import AgentExecutor\n",
    "import sqlite3"
   ]
  },
  {
   "cell_type": "code",
   "execution_count": null,
   "metadata": {},
   "outputs": [],
   "source": [
    "def create_database():\n",
    "    conn = sqlite3.connect(\":memory:\")\n",
    "    c = conn.cursor()\n",
    "    c.execute(\"\"\"CREATE TABLE users (id INTEGER PRIMARY KEY, name TEXT, age INTEGER)\"\"\")\n",
    "    c.execute(\"INSERT INTO users (name, age) VALUES ('João', 25), ('Maria', 30)\")\n",
    "    conn.commit()\n",
    "    return conn\n",
    "\n",
    "def search_user_db(user_name):\n",
    "    conn = create_database()\n",
    "    c = conn.cursor()\n",
    "    c.execute(\"SELECT name, age FROM users WHERE name = ?\", (user_name, ))\n",
    "    result = c.fetchone()\n",
    "    conn.close()\n",
    "    if result:\n",
    "        return f\"{result[0]} tem {result[1]} anos\"\n",
    "    else: \n",
    "        return \"Usuário não encontrado\"\n",
    "    \n",
    "def sum_numbers(numbers):\n",
    "    if isinstance(numbers, str):\n",
    "        numbers = eval(numbers)\n",
    "    \n",
    "    if isinstance(numbers, list):\n",
    "        total = sum(numbers)\n",
    "        return f\"A soma dos números {numbers} é {total}\"\n",
    "    else:\n",
    "        return \"Erro: A entrada não é uma lista de números válida.\""
   ]
  },
  {
   "cell_type": "code",
   "execution_count": null,
   "metadata": {},
   "outputs": [],
   "source": [
    "tools = [\n",
    "    Tool(\n",
    "        name=\"Buscar Usuário no BD\",\n",
    "        func=search_user_db,\n",
    "        description=\"Procura informações sobre um usuário na base de dados\"\n",
    "    ),\n",
    "    Tool(\n",
    "        name=\"Calcular Soma\",\n",
    "        func=sum_numbers,\n",
    "        description=\"Calcula a soma de uma lista de números\"\n",
    "    )\n",
    "]"
   ]
  },
  {
   "cell_type": "code",
   "execution_count": null,
   "metadata": {},
   "outputs": [],
   "source": [
    "agent = initialize_agent(tools, llm, agent_type=AgentType.ZERO_SHOT_REACT_DESCRIPTION, verbose=True)\n",
    "\n",
    "input_query=\"Qual é a soma de 5, 10 e 15? Quantos anos Maria tem?\"\n",
    "response = agent.run(input_query)\n",
    "print(response)"
   ]
  }
 ],
 "metadata": {
  "kernelspec": {
   "display_name": ".venv (3.13.7)",
   "language": "python",
   "name": "python3"
  },
  "language_info": {
   "codemirror_mode": {
    "name": "ipython",
    "version": 3
   },
   "file_extension": ".py",
   "mimetype": "text/x-python",
   "name": "python",
   "nbconvert_exporter": "python",
   "pygments_lexer": "ipython3",
   "version": "3.13.7"
  }
 },
 "nbformat": 4,
 "nbformat_minor": 2
}
